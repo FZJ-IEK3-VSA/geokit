{
 "cells": [
  {
   "cell_type": "code",
   "execution_count": null,
   "metadata": {},
   "outputs": [],
   "source": [
    "import geokit as gk\n",
    "import numpy as np\n",
    "import pandas as pd\n",
    "\n",
    "import matplotlib.pyplot as plt"
   ]
  },
  {
   "cell_type": "markdown",
   "metadata": {},
   "source": [
    "# GEOMETRIES\n",
    "Within the geometries module, different kind of geometry objects can be defined. Those are: \n",
    "\n",
    "1. Point\n",
    "1. MultiPoint\n",
    "1. LineString\n",
    "1. MultiLineString\n",
    "1. Polygon\n",
    "1. MultiPolygon\n",
    "\n",
    "Each object consists of its data (most likely the location) and its spatial reference system SRS from the lection before"
   ]
  },
  {
   "cell_type": "markdown",
   "metadata": {},
   "source": [
    "## Point\n",
    "Ponts can be defined with the location information (lat, lon) and the SRS information. The SRS is an SRS-object as created in the section before"
   ]
  },
  {
   "cell_type": "code",
   "execution_count": null,
   "metadata": {},
   "outputs": [],
   "source": [
    "aachen_pt = gk.geom.point((6.083, 52.775), srs=gk.srs.EPSG4326)\n",
    "print(type(aachen_pt))"
   ]
  },
  {
   "cell_type": "markdown",
   "metadata": {},
   "source": [
    "The Object attributes can be obtaine via *object.Get...*"
   ]
  },
  {
   "cell_type": "code",
   "execution_count": null,
   "metadata": {},
   "outputs": [],
   "source": [
    "print(\"X value is: \", aachen_pt.GetX())\n",
    "print(\"Y value is: \", aachen_pt.GetY())\n",
    "print(\"srs is: \", aachen_pt.GetSpatialReference())\n",
    "print(\"type is: \", aachen_pt.GetGeometryName())"
   ]
  },
  {
   "cell_type": "code",
   "execution_count": null,
   "metadata": {},
   "outputs": [],
   "source": [
    "# Get the buffer around this point\n",
    "aachen_buffered_area = aachen_pt.Buffer(1)\n",
    "\n",
    "print(type(aachen_buffered_area))\n",
    "print(\"type is: \", aachen_buffered_area.GetGeometryName())"
   ]
  },
  {
   "cell_type": "markdown",
   "metadata": {},
   "source": [
    "## Line\n",
    "\n",
    "A line is defined as a polyline and a SRS. A polyline is defined by a number of points with linear connection."
   ]
  },
  {
   "cell_type": "code",
   "execution_count": null,
   "metadata": {},
   "outputs": [],
   "source": [
    "# Make a line\n",
    "aachen_centered_srs = gk.srs.centeredLAEA(6.083, 50.775)\n",
    "\n",
    "aachen_line = gk.geom.line(\n",
    "    [\n",
    "        (5.6086412456393614e-11, 1.0605099246605318e-09),\n",
    "        (5.5966859847770105e-11, 11124.48031893997),\n",
    "        (5.584717712977507e-11, 22249.12252108337),\n",
    "        (71432.80781956247, -66262.41755972906),\n",
    "        (105796.52244980012, 1069.9939140476542),\n",
    "    ],\n",
    "    srs=aachen_centered_srs,\n",
    ")"
   ]
  },
  {
   "cell_type": "markdown",
   "metadata": {},
   "source": [
    "## Draw functions\n",
    "Geom objects can be drawn within geokit with gk.drawGeoms()"
   ]
  },
  {
   "cell_type": "code",
   "execution_count": null,
   "metadata": {},
   "outputs": [],
   "source": [
    "gk.drawGeoms"
   ]
  },
  {
   "cell_type": "markdown",
   "metadata": {},
   "source": [
    "### Plot geoms\n",
    "Plot the Bufferd area, the defined point and the defined line within the latlon coordinate system. The point is in Aachen, which is at around (6,52)"
   ]
  },
  {
   "cell_type": "code",
   "execution_count": null,
   "metadata": {},
   "outputs": [],
   "source": [
    "# Draw some geometries\n",
    "axh = gk.drawGeoms(aachen_buffered_area, figsize=(6, 6))  # , srs=aachen_centered_srs )\n",
    "axh = gk.drawGeoms(aachen_pt, ax=axh)  # , srs=aachen_centered_srs )\n",
    "axh = gk.drawGeoms(aachen_line, ax=axh)  # , srs=aachen_centered_srs)\n",
    "plt.show()"
   ]
  },
  {
   "cell_type": "markdown",
   "metadata": {},
   "source": [
    "### Plot in different SRS\n",
    "Same plot as above. This time, the SRS is the Aachen centered with equal area projection. "
   ]
  },
  {
   "cell_type": "code",
   "execution_count": null,
   "metadata": {},
   "outputs": [],
   "source": [
    "axh = gk.drawGeoms(aachen_buffered_area, figsize=(6, 6), srs=aachen_centered_srs)\n",
    "axh = gk.drawGeoms(aachen_pt, ax=axh, srs=aachen_centered_srs)\n",
    "axh = gk.drawGeoms(aachen_line, ax=axh, srs=aachen_centered_srs)\n",
    "plt.show()"
   ]
  },
  {
   "cell_type": "markdown",
   "metadata": {},
   "source": [
    "## Get Centroid\n",
    "\n",
    "Calculates the centroid point of each geom object by obj.Centroid().\n",
    "The result does NOT contain a srs."
   ]
  },
  {
   "cell_type": "code",
   "execution_count": null,
   "metadata": {},
   "outputs": [],
   "source": [
    "ctr_polygon = aachen_buffered_area.Centroid()\n",
    "print(\"polygon center - X\", ctr_polygon.GetX())\n",
    "print(\"polygon center - Y\", ctr_polygon.GetY())\n",
    "print(\"polygon srs\", ctr_polygon.GetSpatialReference())\n",
    "\n",
    "ctr_line = aachen_line.Centroid()\n",
    "print(\"line center - X\", ctr_line.GetX())\n",
    "print(\"line center - Y\", ctr_line.GetY())\n",
    "print(\"line srs\", ctr_line.GetSpatialReference())"
   ]
  },
  {
   "cell_type": "markdown",
   "metadata": {},
   "source": [
    "The srs can be assigend by obj.AssignSpatialReference"
   ]
  },
  {
   "cell_type": "code",
   "execution_count": null,
   "metadata": {},
   "outputs": [],
   "source": [
    "## GOTCHYA!\n",
    "# Apply the old srs\n",
    "ctr_line.AssignSpatialReference(aachen_line.GetSpatialReference())\n",
    "print(\"line srs\", ctr_line.GetSpatialReference())"
   ]
  },
  {
   "cell_type": "markdown",
   "metadata": {},
   "source": [
    "## Boundary\n",
    "Get the boundary of an object by: obj.Boundary()"
   ]
  },
  {
   "cell_type": "code",
   "execution_count": null,
   "metadata": {},
   "outputs": [],
   "source": [
    "# Get a boundary\n",
    "boundary_polygon = aachen_buffered_area.Boundary()\n",
    "print(type(boundary_polygon))\n",
    "print(boundary_polygon.GetGeometryName())"
   ]
  },
  {
   "cell_type": "code",
   "execution_count": null,
   "metadata": {},
   "outputs": [],
   "source": [
    "# draw the boundary with a buffer\n",
    "axh = gk.drawGeoms(\n",
    "    boundary_polygon.Buffer(0.2), figsize=(6, 6), srs=aachen_centered_srs\n",
    ")\n",
    "gk.drawGeoms(boundary_polygon, figsize=(6, 6), srs=aachen_centered_srs, ax=axh)\n",
    "plt.show()"
   ]
  },
  {
   "cell_type": "markdown",
   "metadata": {},
   "source": [
    "## Spatial Relation\n",
    "\n",
    "1. Contains\n",
    "1. Crosses\n",
    "1. Touches\n",
    "1. Overlaps\n",
    "\n",
    "[More information here](https://en.wikipedia.org/wiki/Spatial_relation#/media/File:TopologicSpatialRelarions2.png)\n"
   ]
  },
  {
   "cell_type": "code",
   "execution_count": null,
   "metadata": {},
   "outputs": [],
   "source": [
    "# test for containment\n",
    "print(aachen_buffered_area.Contains(aachen_pt))\n",
    "print(aachen_buffered_area.Contains(aachen_line))\n",
    "print(boundary_polygon.Buffer(0.2).Contains(aachen_buffered_area))\n",
    "print(boundary_polygon.Buffer(0.2).Crosses(aachen_buffered_area))\n",
    "print(boundary_polygon.Buffer(0.2).Touches(aachen_buffered_area))\n",
    "print(boundary_polygon.Buffer(0.2).Overlaps(aachen_buffered_area))"
   ]
  },
  {
   "cell_type": "markdown",
   "metadata": {},
   "source": [
    "## Transform SRS and get points\n",
    "\n",
    "Get points within a geometry within a choosen SRS:\n",
    "\n",
    "1. Transform object to another SRS by: gk.geom.transform( [obj1, obj2], toSRS)\n",
    "1. Extract gk.geom.extractVerticies"
   ]
  },
  {
   "cell_type": "code",
   "execution_count": null,
   "metadata": {},
   "outputs": [],
   "source": [
    "# Get Points\n",
    "boundary_polygon_3857 = gk.geom.transform(boundary_polygon, toSRS=gk.srs.EPSG3857)\n",
    "gk.geom.extractVerticies(boundary_polygon_3857)[:5, :]"
   ]
  },
  {
   "cell_type": "code",
   "execution_count": null,
   "metadata": {},
   "outputs": [],
   "source": [
    "boundary_polygon_3857.SimplifyPreserveTopology(10)"
   ]
  },
  {
   "cell_type": "markdown",
   "metadata": {},
   "source": [
    "## Intersect and Union\n",
    "\n",
    "Example for Intersection and Union of two geometries area1 and area2. \n",
    "* Intersection of geoms: 'area1.Intersection(area2)'\n",
    "* Union of geoms: 'area1.Union(area2)'\n",
    "\n",
    "Important: All geometry operations need to happen in the same SRS!\n",
    "If they are not in the same srs, change to one srs: area2 = gk.geom.transform(area2, toSRS=area1.GetSpatialReference())"
   ]
  },
  {
   "cell_type": "code",
   "execution_count": null,
   "metadata": {},
   "outputs": [],
   "source": [
    "# Geom 1:\n",
    "axh = gk.drawGeoms(aachen_buffered_area, figsize=(5, 5), srs=4326)\n",
    "# Geom 2:\n",
    "box = gk.geom.box(6, 52, 7, 53, srs=gk.srs.EPSG4326)\n",
    "gk.drawGeoms(box, figsize=(5, 5), srs=4326, ax=axh)"
   ]
  },
  {
   "cell_type": "code",
   "execution_count": null,
   "metadata": {},
   "outputs": [],
   "source": [
    "# Intersection of geoms\n",
    "intersect_geom = aachen_buffered_area.Intersection(box)\n",
    "axh = gk.drawGeoms(intersect_geom, figsize=(5, 5), srs=4326)"
   ]
  },
  {
   "cell_type": "code",
   "execution_count": null,
   "metadata": {},
   "outputs": [],
   "source": [
    "# Union of geoms\n",
    "unioned_geom = aachen_buffered_area.Union(box)\n",
    "axh = gk.drawGeoms(unioned_geom, figsize=(5, 5), srs=4326)"
   ]
  },
  {
   "cell_type": "markdown",
   "metadata": {},
   "source": [
    "## Getting areas"
   ]
  },
  {
   "cell_type": "code",
   "execution_count": null,
   "metadata": {},
   "outputs": [],
   "source": [
    "box = gk.geom.box(6, 52, 7, 53, srs=gk.srs.EPSG4326)\n",
    "print(\"Box area in degrees^2:\", box.Area())"
   ]
  },
  {
   "cell_type": "code",
   "execution_count": null,
   "metadata": {},
   "outputs": [],
   "source": [
    "ctr = box.Centroid()\n",
    "box_centered_laea_srs = gk.srs.centeredLAEA(ctr.GetX(), ctr.GetY())\n",
    "box.TransformTo(box_centered_laea_srs)\n",
    "print(\"Box area in meters^2:\", box.Area())"
   ]
  },
  {
   "cell_type": "code",
   "execution_count": null,
   "metadata": {},
   "outputs": [],
   "source": []
  }
 ],
 "metadata": {
  "kernelspec": {
   "display_name": "geokit",
   "language": "python",
   "name": "python3"
  },
  "language_info": {
   "codemirror_mode": {
    "name": "ipython",
    "version": 3
   },
   "file_extension": ".py",
   "mimetype": "text/x-python",
   "name": "python",
   "nbconvert_exporter": "python",
   "pygments_lexer": "ipython3",
   "version": "3.10.13"
  }
 },
 "nbformat": 4,
 "nbformat_minor": 4
}
