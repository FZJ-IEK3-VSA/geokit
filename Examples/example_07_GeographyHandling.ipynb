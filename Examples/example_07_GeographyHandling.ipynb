{
 "cells": [
  {
   "cell_type": "code",
   "execution_count": 1,
   "id": "4dabb035",
   "metadata": {},
   "outputs": [],
   "source": [
    "import geokit as gk"
   ]
  },
  {
   "cell_type": "markdown",
   "id": "a9bc7376",
   "metadata": {},
   "source": [
    "## Divide multipolygons along the antimeridian"
   ]
  },
  {
   "cell_type": "code",
   "execution_count": 2,
   "id": "62819b8a",
   "metadata": {},
   "outputs": [],
   "source": [
    "# load the shape file of Fidji, a country spanning the antimeridian\n",
    "FJI_df = gk.vector.extractFeatures(gk._test_data_[\"FJI.shp\"])\n",
    "FJI_geom = FJI_df.geom.iloc[0]"
   ]
  },
  {
   "cell_type": "code",
   "execution_count": 3,
   "id": "ca6b412f",
   "metadata": {},
   "outputs": [
    {
     "data": {
      "text/plain": [
       "AxHands(ax=<Axes: >, handles=[[<matplotlib.patches.PathPatch object at 0x000002A8241C5EA0>, <matplotlib.patches.PathPatch object at 0x000002A8241C63E0>, <matplotlib.patches.PathPatch object at 0x000002A8241C65F0>, <matplotlib.patches.PathPatch object at 0x000002A8241C6800>, <matplotlib.patches.PathPatch object at 0x000002A8241C6A10>, <matplotlib.patches.PathPatch object at 0x000002A8241C6C20>, <matplotlib.patches.PathPatch object at 0x000002A8241C6E30>, <matplotlib.patches.PathPatch object at 0x000002A8241C7040>, <matplotlib.patches.PathPatch object at 0x000002A8241C7220>]], cbar=None)"
      ]
     },
     "execution_count": 3,
     "metadata": {},
     "output_type": "execute_result"
    },
    {
     "data": {
      "image/png": "[encoded data removed]",
      "text/plain": [
       "<Figure size 1200x1200 with 1 Axes>"
      ]
     },
     "metadata": {},
     "output_type": "display_data"
    }
   ],
   "source": [
    "# FJI is split into two parts, one in the eastern hemisphere and one in the western hemisphere separated by the antimeridian\n",
    "# in our example like mostly, the Western part has been shifted eastwards by 360 degrees\n",
    "# that creates a problem when plotting the data or loading anything via the extent due to its huge extent of 360° longitude\n",
    "\n",
    "# the test plot demonstrates the problem\n",
    "gk.drawGeoms(FJI_geom)"
   ]
  },
  {
   "cell_type": "code",
   "execution_count": 4,
   "id": "9f3a4077",
   "metadata": {},
   "outputs": [
    {
     "ename": "AttributeError",
     "evalue": "module 'geokit.geom' has no attribute 'divideMultipolygonAtAntimeridian'",
     "output_type": "error",
     "traceback": [
      "\u001b[1;31m---------------------------------------------------------------------------\u001b[0m",
      "\u001b[1;31mAttributeError\u001b[0m                            Traceback (most recent call last)",
      "Cell \u001b[1;32mIn[4], line 3\u001b[0m\n\u001b[0;32m      1\u001b[0m \u001b[38;5;66;03m# we can therefore extract each of the two parts separately\u001b[39;00m\n\u001b[0;32m      2\u001b[0m \u001b[38;5;66;03m# demonstrate here for the part \"right\" of the antimeridian (i.e. East of antimeridian but West on the map)\u001b[39;00m\n\u001b[1;32m----> 3\u001b[0m FJI_right_geom \u001b[38;5;241m=\u001b[39m \u001b[43mgk\u001b[49m\u001b[38;5;241;43m.\u001b[39;49m\u001b[43mgeom\u001b[49m\u001b[38;5;241;43m.\u001b[39;49m\u001b[43mdivideMultipolygonAtAntimeridian\u001b[49m(geom\u001b[38;5;241m=\u001b[39mFJI_geom, side\u001b[38;5;241m=\u001b[39m\u001b[38;5;124m\"\u001b[39m\u001b[38;5;124mright\u001b[39m\u001b[38;5;124m\"\u001b[39m)\n\u001b[0;32m      4\u001b[0m gk\u001b[38;5;241m.\u001b[39mdrawGeoms(FJI_right_geom, figsize\u001b[38;5;241m=\u001b[39m(\u001b[38;5;241m4\u001b[39m,\u001b[38;5;241m4\u001b[39m))\n\u001b[0;32m      6\u001b[0m \u001b[38;5;66;03m# (side='left' would return the part West of the antimeridian, i.e. East on the map)\u001b[39;00m\n\u001b[0;32m      7\u001b[0m \u001b[38;5;66;03m# (side='both' would return both parts as a tuple of 2 geometries)\u001b[39;00m\n",
      "\u001b[1;31mAttributeError\u001b[0m: module 'geokit.geom' has no attribute 'divideMultipolygonAtAntimeridian'"
     ]
    }
   ],
   "source": [
    "# we can therefore extract each of the two parts separately\n",
    "# demonstrate here for the part \"right\" of the antimeridian (i.e. East of antimeridian but West on the map)\n",
    "FJI_right_geom = gk.geom.divideMultipolygonAtAntimeridian(geom=FJI_geom, side=\"right\")\n",
    "gk.drawGeoms(FJI_right_geom, figsize=(4,4))\n",
    "\n",
    "# (side='left' would return the part West of the antimeridian, i.e. East on the map)\n",
    "# (side='both' would return both parts as a tuple of 2 geometries)"
   ]
  },
  {
   "cell_type": "code",
   "execution_count": null,
   "id": "ee95e04c",
   "metadata": {},
   "outputs": [],
   "source": [
    "# side='main' returns the side with the largest total polygon area\n",
    "FJI_main_geom = gk.geom.divideMultipolygonAtAntimeridian(geom=FJI_geom, side=\"main\")\n",
    "gk.drawGeoms(FJI_main_geom, figsize=(4,4))\n",
    "\n",
    "# we can see that in our case, it is the part \"left\" of the antimeridian that has the largest area"
   ]
  },
  {
   "cell_type": "markdown",
   "id": "7af37aa8",
   "metadata": {},
   "source": [
    "## Split and shift geometries along the antimeridian"
   ]
  },
  {
   "cell_type": "code",
   "execution_count": null,
   "id": "044ff5bc",
   "metadata": {},
   "outputs": [],
   "source": [
    "# assume we need to buffer the western (left) part of the country by 1°\n",
    "FJI_main_geom_buffered = FJI_main_geom.Buffer(1)\n",
    "\n",
    "# the buffered geometry now exceeds over the antimeridian\n",
    "gk.drawGeoms(FJI_main_geom_buffered, figsize=(4,4))"
   ]
  },
  {
   "cell_type": "code",
   "execution_count": null,
   "id": "9a7c5e2f",
   "metadata": {},
   "outputs": [],
   "source": [
    "# envelope proves that we exceed 180° line\n",
    "FJI_main_geom_buffered.GetEnvelope()"
   ]
  },
  {
   "cell_type": "code",
   "execution_count": null,
   "id": "120e2131",
   "metadata": {},
   "outputs": [],
   "source": [
    "# this causes potential trouble down the line, so we can split the buffered geometry again at the antimeridian\n",
    "FJI_main_geom_buffered_splits = gk.geom.splitGeometryAlongAntimeridian(geom=FJI_main_geom_buffered, shiftouter=False, clip=False, verbose=True)\n",
    "\n",
    "# we \n",
    "print(f\"{len(FJI_main_geom_buffered_splits)} tuple entries, one for each side of the antimeridian including the center between -180 and 180.\")\n",
    "print(f\"The left part is None since we do not have geometries < -180° in this example:\")\n",
    "print(FJI_main_geom_buffered_splits)"
   ]
  },
  {
   "cell_type": "code",
   "execution_count": null,
   "id": "d5d31eec",
   "metadata": {},
   "outputs": [],
   "source": [
    "# plot the other 2 parts, leaving out the None entry (cannot be plotted)\n",
    "ax = gk.drawGeoms(FJI_main_geom_buffered_splits[1], fc=\"r\", figsize=(4,4))  # left part in red\n",
    "gk.drawGeoms(FJI_main_geom_buffered_splits[2], ax=ax, fc=\"b\") # right part in blue"
   ]
  },
  {
   "cell_type": "code",
   "execution_count": null,
   "id": "8dbe8589",
   "metadata": {},
   "outputs": [],
   "source": [
    "# In this case, we might also just want to clip the irrelevant small section that extends over +180°\n",
    "FJI_main_geom_buffered_clipped = gk.geom.splitGeometryAlongAntimeridian(geom=FJI_main_geom_buffered, shiftouter=False, clip=True, verbose=True)\n",
    "\n",
    "# function returns only a single geom instance since the other parts were clipped\n",
    "# plotting it shows the clipped boundary on the right side\n",
    "gk.drawGeoms(FJI_main_geom_buffered_clipped, figsize=(4,4))"
   ]
  },
  {
   "cell_type": "code",
   "execution_count": null,
   "id": "d4ab6b82",
   "metadata": {},
   "outputs": [],
   "source": [
    "# we could also move the right part, which exceeds our \"standard window\" of -180 to 180° longitude\n",
    "# shifting it by 360° to the left would allow us to handle it all in the known -180 to +180° range which is handled well by most GIS software\n",
    "\n",
    "# NOTE: This may not be a great idea for visualization, see above example\n",
    "right_part = FJI_main_geom_buffered_splits[2]\n",
    "right_part_shifted = gk.geom.shift(geom=right_part, lonShift=-360)\n",
    "\n",
    "# plot the original left part and the shifted right part\n",
    "ax = gk.drawGeoms(FJI_main_geom_buffered_splits[1], fc=\"r\", ec=(1,1,1,0))  # left part in red\n",
    "gk.drawGeoms(right_part_shifted, ax=ax, fc=\"b\", ec=(1,1,1,0)) # right part in blue"
   ]
  },
  {
   "cell_type": "code",
   "execution_count": null,
   "id": "83b5c36b",
   "metadata": {},
   "outputs": [],
   "source": [
    "# This shift can also be achieved directly with the \"shiftouter\" argument\n",
    "# It will shift the clipped part beyond the -180°/+180° line to the \"other end\" of the map\n",
    "FJI_main_geoms_buffered_shifted = gk.geom.splitGeometryAlongAntimeridian(geom=FJI_main_geom_buffered, shiftouter=True, clip=False, verbose=True)\n",
    "\n",
    "# show what we got - a tuple of 3 parts, the left is None (does not cross the -180° line on the left), center and the shifted right (now left part)\n",
    "print(FJI_main_geoms_buffered_shifted)\n",
    "\n",
    "# plot it - should look like above\n",
    "ax = gk.drawGeoms(FJI_main_geoms_buffered_shifted[1], fc=\"r\", ec=(1,1,1,0))  # left part in red\n",
    "gk.drawGeoms(FJI_main_geoms_buffered_shifted[2], ax=ax, fc=\"b\", ec=(1,1,1,0)) # right part in blue"
   ]
  }
 ],
 "metadata": {
  "kernelspec": {
   "display_name": "geokit",
   "language": "python",
   "name": "python3"
  },
  "language_info": {
   "codemirror_mode": {
    "name": "ipython",
    "version": 3
   },
   "file_extension": ".py",
   "mimetype": "text/x-python",
   "name": "python",
   "nbconvert_exporter": "python",
   "pygments_lexer": "ipython3",
   "version": "3.10.13"
  }
 },
 "nbformat": 4,
 "nbformat_minor": 5
}
