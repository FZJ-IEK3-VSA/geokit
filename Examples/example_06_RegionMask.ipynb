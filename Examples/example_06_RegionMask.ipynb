{
 "cells": [
  {
   "cell_type": "code",
   "execution_count": null,
   "metadata": {},
   "outputs": [],
   "source": [
    "import geokit as gk\n",
    "import numpy as np\n",
    "import pandas as pd\n",
    "from os.path import join\n",
    "import matplotlib.pyplot as plt"
   ]
  },
  {
   "cell_type": "markdown",
   "metadata": {},
   "source": [
    "# RegionMask\n",
    "The RegionMask object is the geospatial representation of the given region, allows to combine raster and vector operations and many functions. \n",
    "The following shows only a few examples of these. \n",
    "\n"
   ]
  },
  {
   "cell_type": "markdown",
   "metadata": {},
   "source": [
    "Example for the Aachen-Region"
   ]
  },
  {
   "cell_type": "code",
   "execution_count": null,
   "metadata": {},
   "outputs": [],
   "source": [
    "# define the srs\n",
    "aachen_centered_srs = gk.srs.centeredLAEA(6.083, 50.775)"
   ]
  },
  {
   "cell_type": "code",
   "execution_count": null,
   "metadata": {},
   "outputs": [],
   "source": [
    "# load the region mask from the passed shape file\n",
    "aachen_rm = gk.RegionMask.load(\n",
    "    gk._test_data_[\"aachenShapefile.shp\"], pixelRes=20, srs=aachen_centered_srs\n",
    ")\n",
    "aachen_rm"
   ]
  },
  {
   "cell_type": "code",
   "execution_count": null,
   "metadata": {},
   "outputs": [],
   "source": [
    "# Print information about the region mask\n",
    "print(\"aachen_rm.extent\", aachen_rm.extent)\n",
    "# print(\"aachen_rm.srs\", aachen_rm.srs)\n",
    "print(\"aachen_rm.pixelWidth\", aachen_rm.pixelWidth)\n",
    "print(\"aachen_rm.pixelHeight\", aachen_rm.pixelHeight)"
   ]
  },
  {
   "cell_type": "markdown",
   "metadata": {},
   "source": [
    "## Region Mask and Raster-File\n",
    "\n",
    "A RegionMask object allows raster data to be warped onto the RegionMask's characteristics (as in the RegionMask's resolution, extent, and spatial reference system). This create a numpy matrix, from which only the pixels which lie in the region can be easily extracted and operated on.\n",
    "\n",
    "\n",
    "Example: Extract the GHI-data for Aachen from a raster-file for the GHI in Germany.\n"
   ]
  },
  {
   "cell_type": "code",
   "execution_count": null,
   "metadata": {},
   "outputs": [],
   "source": [
    "ras = aachen_rm.warp(gk._test_data_[\"gsa-ghi-like.tif\"], returnMatrix=False)"
   ]
  },
  {
   "cell_type": "markdown",
   "metadata": {},
   "source": [
    "Draw Raster file in RegionMask."
   ]
  },
  {
   "cell_type": "code",
   "execution_count": null,
   "metadata": {},
   "outputs": [],
   "source": [
    "gk.drawRaster(ras, figsize=(6, 6))"
   ]
  },
  {
   "cell_type": "markdown",
   "metadata": {},
   "source": [
    "Raster values: Average values and histogram"
   ]
  },
  {
   "cell_type": "code",
   "execution_count": null,
   "metadata": {},
   "outputs": [],
   "source": [
    "# Get the average of raster values which are within the region mask\n",
    "aachen_rm.warp(gk._test_data_[\"gsa-ghi-like.tif\"])[aachen_rm.mask].mean()"
   ]
  },
  {
   "cell_type": "code",
   "execution_count": null,
   "metadata": {},
   "outputs": [],
   "source": [
    "# plot histogramm of the values\n",
    "plt.hist(aachen_rm.warp(gk._test_data_[\"gsa-ghi-like.tif\"])[aachen_rm.mask])"
   ]
  },
  {
   "cell_type": "markdown",
   "metadata": {},
   "source": [
    "## Region Mask and shp-file"
   ]
  },
  {
   "cell_type": "markdown",
   "metadata": {},
   "source": [
    "Extract feature in a df."
   ]
  },
  {
   "cell_type": "code",
   "execution_count": null,
   "metadata": {},
   "outputs": [],
   "source": [
    "aachen_points = aachen_rm.extractFeatures(gk._test_data_[\"turbinePlacements.shp\"])\n",
    "aachen_points.head()"
   ]
  },
  {
   "cell_type": "markdown",
   "metadata": {},
   "source": [
    "1. Example: Show features in the region mask."
   ]
  },
  {
   "cell_type": "code",
   "execution_count": null,
   "metadata": {},
   "outputs": [],
   "source": [
    "axh = aachen_rm.drawGeoms(aachen_points, figsize=(5, 6), hideAxis=True, color=\"b\")\n",
    "plt.show()"
   ]
  },
  {
   "cell_type": "markdown",
   "metadata": {},
   "source": [
    "2. Example: Indicate features directly in region mask. Include a buffer around the features."
   ]
  },
  {
   "cell_type": "code",
   "execution_count": null,
   "metadata": {},
   "outputs": [],
   "source": [
    "# Indicate RegionMask pixels within 500 meters of these points\n",
    "isNearToTurbine = aachen_rm.indicateFeatures(\n",
    "    gk._test_data_[\"turbinePlacements.shp\"], buffer=500\n",
    ")\n",
    "# Visualize it!\n",
    "axh = aachen_rm.drawImage(\n",
    "    isNearToTurbine,\n",
    "    figsize=(5, 6),\n",
    "    hideAxis=True,\n",
    "    cmap=\"Reds\",\n",
    ")\n",
    "plt.show()"
   ]
  },
  {
   "cell_type": "markdown",
   "metadata": {},
   "source": [
    "## Export a raster-tif-file for the region "
   ]
  },
  {
   "cell_type": "code",
   "execution_count": null,
   "metadata": {},
   "outputs": [],
   "source": [
    "# Create a raster\n",
    "example_data = np.ones_like(aachen_rm.mask)\n",
    "aachen_rm.createRaster(data=example_data, output=\"./rm_raster.tif\")"
   ]
  },
  {
   "cell_type": "markdown",
   "metadata": {},
   "source": [
    "## Indicate areas with values"
   ]
  },
  {
   "cell_type": "code",
   "execution_count": null,
   "metadata": {},
   "outputs": [],
   "source": [
    "# Show areas with GHI values > 2.9\n",
    "tmp = aachen_rm.indicateValues(\n",
    "    source=gk._test_data_[\"gsa-ghi-like.tif\"],\n",
    "    value=(2.9, None),\n",
    ")\n",
    "\n",
    "aachen_rm.drawImage(tmp, figsize=(6, 6))"
   ]
  },
  {
   "cell_type": "code",
   "execution_count": null,
   "metadata": {},
   "outputs": [],
   "source": [
    "# Show areas with GHI values > 2.9 with buffer\n",
    "tmp = aachen_rm.indicateValues(\n",
    "    source=gk._test_data_[\"gsa-ghi-like.tif\"], value=(2.9, None), buffer=100\n",
    ")\n",
    "\n",
    "aachen_rm.drawImage(tmp, figsize=(6, 6))"
   ]
  },
  {
   "cell_type": "code",
   "execution_count": null,
   "metadata": {},
   "outputs": [],
   "source": []
  }
 ],
 "metadata": {
  "kernelspec": {
   "display_name": "geokit",
   "language": "python",
   "name": "python3"
  },
  "language_info": {
   "codemirror_mode": {
    "name": "ipython",
    "version": 3
   },
   "file_extension": ".py",
   "mimetype": "text/x-python",
   "name": "python",
   "nbconvert_exporter": "python",
   "pygments_lexer": "ipython3",
   "version": "3.10.13"
  }
 },
 "nbformat": 4,
 "nbformat_minor": 4
}
