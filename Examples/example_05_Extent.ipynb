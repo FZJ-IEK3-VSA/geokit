{
 "cells": [
  {
   "cell_type": "code",
   "execution_count": null,
   "metadata": {},
   "outputs": [],
   "source": [
    "import geokit as gk\n",
    "import numpy as np\n",
    "import pandas as pd\n",
    "\n",
    "import matplotlib.pyplot as plt"
   ]
  },
  {
   "cell_type": "markdown",
   "metadata": {},
   "source": [
    "# Extent\n",
    "The Extent object represents geographic extents of an area and exposes useful\n",
    "methods which depend on those extents. Just some examples for the extent object.\n",
    "\n",
    "Example: Warp the GHI-rasterfile to the area of the extent."
   ]
  },
  {
   "cell_type": "code",
   "execution_count": null,
   "metadata": {},
   "outputs": [],
   "source": [
    "gk.Extent"
   ]
  },
  {
   "cell_type": "code",
   "execution_count": null,
   "metadata": {},
   "outputs": [],
   "source": [
    "# definition of the extent\n",
    "ext = gk.Extent(6, 50, 6.75, 51.25, srs=gk.srs.EPSG4326)"
   ]
  },
  {
   "cell_type": "code",
   "execution_count": null,
   "metadata": {
    "scrolled": true
   },
   "outputs": [],
   "source": [
    "# Clip a raster (GHI tif file) to the area of the extent\n",
    "clipped_ghi = ext.warp(\n",
    "    source=gk._test_data_[\"gsa-ghi-like.tif\"],\n",
    "    resampleAlg=\"bilinear\",\n",
    "    pixelWidth=0.01,\n",
    "    pixelHeight=0.01,\n",
    ")\n",
    "\n",
    "gk.drawRaster(clipped_ghi, figsize=(6, 6))"
   ]
  },
  {
   "cell_type": "markdown",
   "metadata": {},
   "source": [
    "Get extent as a geometry object / box."
   ]
  },
  {
   "cell_type": "code",
   "execution_count": null,
   "metadata": {},
   "outputs": [],
   "source": [
    "ext.box"
   ]
  },
  {
   "cell_type": "markdown",
   "metadata": {},
   "source": [
    "Create two shifted extents, combine and get extent of combined box. "
   ]
  },
  {
   "cell_type": "code",
   "execution_count": null,
   "metadata": {},
   "outputs": [],
   "source": [
    "ext = gk.Extent(6, 50, 6.75, 51.25, srs=gk.srs.EPSG4326)\n",
    "ext2 = gk.Extent(6.25, 50.25, 7, 51.5, srs=gk.srs.EPSG4326)\n",
    "\n",
    "ext3 = ext + ext2\n",
    "\n",
    "gk.drawGeoms([ext3.box, ext.box, ext2.box], figsize=(6, 6))"
   ]
  },
  {
   "cell_type": "markdown",
   "metadata": {},
   "source": [
    "## Get extent of different types"
   ]
  },
  {
   "cell_type": "code",
   "execution_count": null,
   "metadata": {},
   "outputs": [],
   "source": [
    "# Get Extent of Raster-File\n",
    "ext_from_raster = ext.fromRaster(gk._test_data_[\"gsa-ghi-like.tif\"])\n",
    "ext_from_raster"
   ]
  },
  {
   "cell_type": "code",
   "execution_count": null,
   "metadata": {},
   "outputs": [],
   "source": [
    "# Get Extent of Vector-File\n",
    "ext_from_vector = ext.fromVector(gk._test_data_[\"Natura2000_aachenClipped.shp\"])\n",
    "ext_from_vector"
   ]
  },
  {
   "cell_type": "code",
   "execution_count": null,
   "metadata": {},
   "outputs": [],
   "source": [
    "# Get Extent of a geom\n",
    "aachen_pt = gk.geom.point((6.083, 52.775), srs=gk.srs.EPSG4326)\n",
    "aachen_buffered_area = aachen_pt.Buffer(1)\n",
    "ext_from_geom = ext.fromGeom(aachen_buffered_area)"
   ]
  },
  {
   "cell_type": "markdown",
   "metadata": {},
   "source": [
    "## Cast to different srs\n",
    "Creates a new Extent by transforming an extent from the original Extent's\n",
    "srs to a target SRS."
   ]
  },
  {
   "cell_type": "code",
   "execution_count": null,
   "metadata": {},
   "outputs": [],
   "source": [
    "ext_from_geom.castTo"
   ]
  },
  {
   "cell_type": "code",
   "execution_count": null,
   "metadata": {},
   "outputs": [],
   "source": [
    "# pad to 2 percent in all directions and fit resoultion of 500m\n",
    "ext_from_geom.castTo(gk.srs.EPSG3035).pad(2, percent=True).fit(500)"
   ]
  },
  {
   "cell_type": "markdown",
   "metadata": {},
   "source": [
    "## Filter several files for extent\n",
    "Pass a list of sources (Vector-files, raster-files) to '.filterSoruces([ ])'. Filter from that list, the the relevant ones that intersect with the extent. "
   ]
  },
  {
   "cell_type": "code",
   "execution_count": null,
   "metadata": {},
   "outputs": [],
   "source": [
    "# Filter sources\n",
    "ext.filterSources([])"
   ]
  },
  {
   "cell_type": "markdown",
   "metadata": {},
   "source": [
    "## Get extent boundary in different forms\n",
    "Get information about the extent geom."
   ]
  },
  {
   "cell_type": "code",
   "execution_count": null,
   "metadata": {},
   "outputs": [],
   "source": [
    "ext.xyXY"
   ]
  },
  {
   "cell_type": "code",
   "execution_count": null,
   "metadata": {},
   "outputs": [],
   "source": [
    "ext.xXyY"
   ]
  },
  {
   "cell_type": "markdown",
   "metadata": {},
   "source": [
    "## Create raster file for extent"
   ]
  },
  {
   "cell_type": "code",
   "execution_count": null,
   "metadata": {},
   "outputs": [],
   "source": [
    "raster_matrix = np.array(\n",
    "    [\n",
    "        [1, 2, 3, 1, 2, 3],\n",
    "        [2, 2, 2, 2, 2, 2],\n",
    "        [3, 2, 1, 3, 2, 1],\n",
    "        [3, 2, 1, 3, 2, 1],\n",
    "        [3, 2, 1, 3, 2, 1],\n",
    "        [3, 2, 1, 3, 2, 1],\n",
    "        [3, 2, 1, 3, 2, 1],\n",
    "    ]\n",
    ")\n",
    "\n",
    "ext = gk.Extent([6, 50, 7, 51.5], srs=gk.srs.EPSG4326)\n",
    "dx, dy = ext.computePixelSize(raster_matrix.shape[1], raster_matrix.shape[0])\n",
    "ext.createRaster(\n",
    "    pixelHeight=dy, pixelWidth=dx, data=raster_matrix, output=\"./test_raster_with_ext.tif\"\n",
    ")"
   ]
  },
  {
   "cell_type": "markdown",
   "metadata": {},
   "source": [
    "## Another powerful tool \n",
    "Combine raster files in one single file. "
   ]
  },
  {
   "cell_type": "code",
   "execution_count": null,
   "metadata": {},
   "outputs": [],
   "source": [
    "ext.rasterMosaic"
   ]
  }
 ],
 "metadata": {
  "kernelspec": {
   "display_name": "geokit",
   "language": "python",
   "name": "python3"
  },
  "language_info": {
   "codemirror_mode": {
    "name": "ipython",
    "version": 3
   },
   "file_extension": ".py",
   "mimetype": "text/x-python",
   "name": "python",
   "nbconvert_exporter": "python",
   "pygments_lexer": "ipython3",
   "version": "3.10.13"
  }
 },
 "nbformat": 4,
 "nbformat_minor": 4
}
