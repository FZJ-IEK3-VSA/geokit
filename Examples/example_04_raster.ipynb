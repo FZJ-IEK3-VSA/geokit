{
 "cells": [
  {
   "cell_type": "code",
   "execution_count": null,
   "metadata": {},
   "outputs": [],
   "source": [
    "import geokit as gk\n",
    "import numpy as np\n",
    "import pandas as pd\n",
    "\n",
    "import matplotlib.pyplot as plt"
   ]
  },
  {
   "cell_type": "markdown",
   "metadata": {},
   "source": [
    "# Raster\n",
    "\n",
    "Information included in raster-files:\n",
    "1. width: number of pixel x-direction\n",
    "1. height: number of pixel in y-direction\n",
    "1. resolution\n",
    "1. extent: relevant geospatial extent\n",
    "1. datatype\n",
    "1. srs"
   ]
  },
  {
   "cell_type": "code",
   "execution_count": null,
   "metadata": {},
   "outputs": [],
   "source": [
    "# create a raster from a matrix\n",
    "raster_matrix = np.array(\n",
    "    [\n",
    "        [1, 2, 3],\n",
    "        [2, 2, 2],\n",
    "        [3, 2, 1],\n",
    "    ]\n",
    ")\n",
    "\n",
    "ras = gk.raster.createRaster(\n",
    "    bounds=[5, 48, 8, 51],\n",
    "    pixelWidth=1,\n",
    "    pixelHeight=1,\n",
    "    data=raster_matrix,\n",
    "    srs=gk.srs.EPSG4326,\n",
    ")"
   ]
  },
  {
   "cell_type": "code",
   "execution_count": null,
   "metadata": {},
   "outputs": [],
   "source": [
    "axh = gk.drawRaster(ras, srs=gk.srs.EPSG4326, figsize=(6, 6))\n",
    "plt.show()"
   ]
  },
  {
   "cell_type": "code",
   "execution_count": null,
   "metadata": {},
   "outputs": [],
   "source": [
    "# extract matrix\n",
    "gk.raster.extractMatrix(ras)"
   ]
  },
  {
   "cell_type": "markdown",
   "metadata": {},
   "source": [
    "## Extract value from a raster"
   ]
  },
  {
   "cell_type": "code",
   "execution_count": null,
   "metadata": {},
   "outputs": [],
   "source": [
    "# extract value at a given location by interpolating\n",
    "value_near = gk.raster.interpolateValues(\n",
    "    source=gk._test_data_[\"gsa-ghi-like.tif\"],\n",
    "    points=[(5.6, 51.1), (5.7, 51.1), (5.8, 51.1)],\n",
    ")\n",
    "print(value_near)\n",
    "\n",
    "\n",
    "value_interp = gk.raster.interpolateValues(\n",
    "    source=gk._test_data_[\"gsa-ghi-like.tif\"],\n",
    "    points=[(5.6, 51.1), (5.7, 51.1), (5.8, 51.1)],\n",
    "    mode=\"linear-spline\",\n",
    ")\n",
    "print(value_interp)"
   ]
  },
  {
   "cell_type": "markdown",
   "metadata": {},
   "source": [
    "## Polygonize a raster \n",
    "Poligonize a raster xyz with 'gk.raster.polygonizeRaster(xyz)'."
   ]
  },
  {
   "cell_type": "code",
   "execution_count": null,
   "metadata": {},
   "outputs": [],
   "source": [
    "# polygonize a raster\n",
    "ras_boolean = gk.raster.createRasterLike(source=ras, data=raster_matrix == 2)\n",
    "\n",
    "polygonized_geoms = gk.raster.polygonizeRaster(ras_boolean)"
   ]
  },
  {
   "cell_type": "code",
   "execution_count": null,
   "metadata": {},
   "outputs": [],
   "source": [
    "# draw polygonized geom\n",
    "gk.drawGeoms(polygonized_geoms.geom[polygonized_geoms.value == 1], figsize=(6, 6))\n",
    "plt.show()"
   ]
  },
  {
   "cell_type": "code",
   "execution_count": null,
   "metadata": {},
   "outputs": [],
   "source": [
    "# draw polygonized geom with buffer\n",
    "gk.drawGeoms(\n",
    "    polygonized_geoms.geom[polygonized_geoms.value == 1].iloc[0].Buffer(0.5),\n",
    "    figsize=(6, 6),\n",
    ")\n",
    "plt.show()"
   ]
  },
  {
   "cell_type": "markdown",
   "metadata": {},
   "source": [
    "## Warp raster"
   ]
  },
  {
   "cell_type": "code",
   "execution_count": null,
   "metadata": {},
   "outputs": [],
   "source": [
    "# Warp\n",
    "gk.drawRaster(gk._test_data_[\"clc-aachen_clipped.tif\"], figsize=(6, 6))\n",
    "warped_raster = gk.raster.warp(\n",
    "    gk._test_data_[\"clc-aachen_clipped.tif\"], srs=gk.srs.EPSG4326, resampleAlg=\"near\"\n",
    ")\n",
    "gk.drawRaster(warped_raster, figsize=(6, 6))"
   ]
  }
 ],
 "metadata": {
  "kernelspec": {
   "display_name": "geokit",
   "language": "python",
   "name": "python3"
  },
  "language_info": {
   "codemirror_mode": {
    "name": "ipython",
    "version": 3
   },
   "file_extension": ".py",
   "mimetype": "text/x-python",
   "name": "python",
   "nbconvert_exporter": "python",
   "pygments_lexer": "ipython3",
   "version": "3.10.13"
  }
 },
 "nbformat": 4,
 "nbformat_minor": 4
}
