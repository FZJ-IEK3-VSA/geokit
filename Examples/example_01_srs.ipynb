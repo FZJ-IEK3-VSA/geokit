{
 "cells": [
  {
   "cell_type": "code",
   "execution_count": 1,
   "metadata": {},
   "outputs": [],
   "source": [
    "import geokit as gk\n",
    "import numpy as np\n",
    "import pandas as pd\n",
    "\n",
    "import matplotlib.pyplot as plt\n"
   ]
  },
  {
   "cell_type": "markdown",
   "metadata": {},
   "source": [
    "# Genreal geokit build up\n",
    "\n",
    "type gk. and use auto completion (press tab) to see suggestions. Here you can see the modules:\n",
    "- srs: spatial reference system\n",
    "- geom: geometries\n",
    "- raster: raster files\n",
    "- vector: vector files\n",
    "- region mask: *ontop of all*\n",
    "- Extent: *brings *all together*\n",
    "- ...\n",
    "\n",
    "\n",
    "Each module holdes all necessary function for its operation.\n",
    "Some more special function are directly available under gk.#function name, but are defined within each module.\n",
    "The modules are stored under ./geokit/core/#modulename"
   ]
  },
  {
   "cell_type": "markdown",
   "metadata": {},
   "source": [
    "For each function, the ducumentation can be assessed by '?'"
   ]
  },
  {
   "cell_type": "code",
   "execution_count": 13,
   "metadata": {},
   "outputs": [
    {
     "name": "stdout",
     "output_type": "stream",
     "text": [
      "\u001b[1;31mSignature:\u001b[0m\n",
      "\u001b[0mgk\u001b[0m\u001b[1;33m.\u001b[0m\u001b[0mdrawGeoms\u001b[0m\u001b[1;33m(\u001b[0m\u001b[1;33m\n",
      "\u001b[0m    \u001b[0mgeoms\u001b[0m\u001b[1;33m,\u001b[0m\u001b[1;33m\n",
      "\u001b[0m    \u001b[0msrs\u001b[0m\u001b[1;33m=\u001b[0m\u001b[1;36m4326\u001b[0m\u001b[1;33m,\u001b[0m\u001b[1;33m\n",
      "\u001b[0m    \u001b[0max\u001b[0m\u001b[1;33m=\u001b[0m\u001b[1;32mNone\u001b[0m\u001b[1;33m,\u001b[0m\u001b[1;33m\n",
      "\u001b[0m    \u001b[0msimplificationFactor\u001b[0m\u001b[1;33m=\u001b[0m\u001b[1;36m5000\u001b[0m\u001b[1;33m,\u001b[0m\u001b[1;33m\n",
      "\u001b[0m    \u001b[0mcolorBy\u001b[0m\u001b[1;33m=\u001b[0m\u001b[1;32mNone\u001b[0m\u001b[1;33m,\u001b[0m\u001b[1;33m\n",
      "\u001b[0m    \u001b[0mfigsize\u001b[0m\u001b[1;33m=\u001b[0m\u001b[1;33m(\u001b[0m\u001b[1;36m12\u001b[0m\u001b[1;33m,\u001b[0m \u001b[1;36m12\u001b[0m\u001b[1;33m)\u001b[0m\u001b[1;33m,\u001b[0m\u001b[1;33m\n",
      "\u001b[0m    \u001b[0mxlim\u001b[0m\u001b[1;33m=\u001b[0m\u001b[1;32mNone\u001b[0m\u001b[1;33m,\u001b[0m\u001b[1;33m\n",
      "\u001b[0m    \u001b[0mylim\u001b[0m\u001b[1;33m=\u001b[0m\u001b[1;32mNone\u001b[0m\u001b[1;33m,\u001b[0m\u001b[1;33m\n",
      "\u001b[0m    \u001b[0mfontsize\u001b[0m\u001b[1;33m=\u001b[0m\u001b[1;36m16\u001b[0m\u001b[1;33m,\u001b[0m\u001b[1;33m\n",
      "\u001b[0m    \u001b[0mhideAxis\u001b[0m\u001b[1;33m=\u001b[0m\u001b[1;32mFalse\u001b[0m\u001b[1;33m,\u001b[0m\u001b[1;33m\n",
      "\u001b[0m    \u001b[0mcbarPadding\u001b[0m\u001b[1;33m=\u001b[0m\u001b[1;36m0.01\u001b[0m\u001b[1;33m,\u001b[0m\u001b[1;33m\n",
      "\u001b[0m    \u001b[0mcbarTitle\u001b[0m\u001b[1;33m=\u001b[0m\u001b[1;32mNone\u001b[0m\u001b[1;33m,\u001b[0m\u001b[1;33m\n",
      "\u001b[0m    \u001b[0mvmin\u001b[0m\u001b[1;33m=\u001b[0m\u001b[1;32mNone\u001b[0m\u001b[1;33m,\u001b[0m\u001b[1;33m\n",
      "\u001b[0m    \u001b[0mvmax\u001b[0m\u001b[1;33m=\u001b[0m\u001b[1;32mNone\u001b[0m\u001b[1;33m,\u001b[0m\u001b[1;33m\n",
      "\u001b[0m    \u001b[0mcmap\u001b[0m\u001b[1;33m=\u001b[0m\u001b[1;34m'viridis'\u001b[0m\u001b[1;33m,\u001b[0m\u001b[1;33m\n",
      "\u001b[0m    \u001b[0mcbar\u001b[0m\u001b[1;33m=\u001b[0m\u001b[1;32mTrue\u001b[0m\u001b[1;33m,\u001b[0m\u001b[1;33m\n",
      "\u001b[0m    \u001b[0mcbax\u001b[0m\u001b[1;33m=\u001b[0m\u001b[1;32mNone\u001b[0m\u001b[1;33m,\u001b[0m\u001b[1;33m\n",
      "\u001b[0m    \u001b[0mcbargs\u001b[0m\u001b[1;33m=\u001b[0m\u001b[1;32mNone\u001b[0m\u001b[1;33m,\u001b[0m\u001b[1;33m\n",
      "\u001b[0m    \u001b[0mleftMargin\u001b[0m\u001b[1;33m=\u001b[0m\u001b[1;36m0.01\u001b[0m\u001b[1;33m,\u001b[0m\u001b[1;33m\n",
      "\u001b[0m    \u001b[0mrightMargin\u001b[0m\u001b[1;33m=\u001b[0m\u001b[1;36m0.01\u001b[0m\u001b[1;33m,\u001b[0m\u001b[1;33m\n",
      "\u001b[0m    \u001b[0mtopMargin\u001b[0m\u001b[1;33m=\u001b[0m\u001b[1;36m0.01\u001b[0m\u001b[1;33m,\u001b[0m\u001b[1;33m\n",
      "\u001b[0m    \u001b[0mbottomMargin\u001b[0m\u001b[1;33m=\u001b[0m\u001b[1;36m0.01\u001b[0m\u001b[1;33m,\u001b[0m\u001b[1;33m\n",
      "\u001b[0m    \u001b[1;33m**\u001b[0m\u001b[0mmplArgs\u001b[0m\u001b[1;33m,\u001b[0m\u001b[1;33m\n",
      "\u001b[0m\u001b[1;33m)\u001b[0m\u001b[1;33m\u001b[0m\u001b[1;33m\u001b[0m\u001b[0m\n",
      "\u001b[1;31mDocstring:\u001b[0m\n",
      "Draw geometries onto a matplotlib figure\n",
      "\n",
      "* Each geometry type is displayed as an appropriate plotting type\n",
      "    -> Points/ Multipoints are displayed as points using plt.plot(...)\n",
      "    -> Lines/ MultiLines are displayed as lines using plt.plot(...)\n",
      "    -> Polygons/ MultiPolygons are displayed as patches using the descartes\n",
      "       library\n",
      "* Each geometry can be given its own set of matplotlib plotting parameters\n",
      "\n",
      "Notes:\n",
      "------\n",
      "This function does not call plt.show() for the final display of the figure.\n",
      "This must be done manually after calling this function. Otherwise\n",
      "plt.savefig(...) can be called to save the output somewhere.\n",
      "\n",
      "Sometimes geometries will disappear because of the simplification procedure.\n",
      "If this happens, the procedure can be avoided by setting simplificationFactor\n",
      "to None. This will take much more memory and will take longer to plot, however\n",
      "\n",
      "Parameters:\n",
      "-----------\n",
      "geoms : ogr.Geometry or [ogr.Geometry, ] or pd.DataFrame\n",
      "    The geometries to be drawn\n",
      "      * If a DataFrame is given, the function looks for geometries under a\n",
      "        columns named 'geom'\n",
      "      * plotting arguments can be given by adding a column named 'MPL:****'\n",
      "        where '****' stands in for the argument to be added\n",
      "          - For geometries that should ignore this argument, set it as None\n",
      "\n",
      "srs : Anything acceptable to geokit.srs.loadSRS(); optional\n",
      "    The srs in which to draw each geometry\n",
      "      * If not given, longitude/latitude is assumed\n",
      "      * Although geometries can be given in any SRS, it is very helpful if\n",
      "        they are already provided in the correct SRS\n",
      "\n",
      "ax : matplotlib axis; optional\n",
      "    The axis to draw the geometries on\n",
      "      * If not given, a new axis is generated and returned\n",
      "\n",
      "simplificationFactor : float; optional\n",
      "    The level to which geometries should be simplified. It can be thought of\n",
      "    as the number of verticies allowed in either the X or Y dimension across\n",
      "    the figure\n",
      "      * A higher value means a more detailed plot, but may take longer to draw\n",
      "\n",
      "colorBy : str; optional\n",
      "    The column in the geoms DataFrame to color by\n",
      "      * Only useful when geoms is given as a DataFrame\n",
      "\n",
      "figsize : (int, int); optional\n",
      "    The figure size to create when generating a new axis\n",
      "      * If resultign figure looks wierd, altering the figure size is your best\n",
      "        bet to make it look nicer\n",
      "\n",
      "xlim : (float, float); optional\n",
      "    The x-axis limits\n",
      "\n",
      "ylim : (float, float); optional\n",
      "    The y-axis limits\n",
      "\n",
      "fontsize : int; optional\n",
      "    A base font size to apply to tick marks which appear\n",
      "      * Titles and labels are given a size of 'fontsize' + 2\n",
      "\n",
      "hideAxis : bool; optional\n",
      "    Instructs the created axis to hide its boundary\n",
      "      * Only useful when generating a new axis\n",
      "\n",
      "cbarPadding : float; optional\n",
      "    The spacing padding to add between the generated axis and the generated\n",
      "    colorbar axis\n",
      "      * Only useful when generating a new axis\n",
      "      * Only useful when 'colorBy' is given\n",
      "\n",
      "cbarTitle : str; optional\n",
      "    The title to give to the generated colorbar\n",
      "      * If not given, but 'colorBy' is given, the same string for 'colorBy'\n",
      "        is used\n",
      "        * Only useful when 'colorBy' is given\n",
      "\n",
      "vmin : float; optional\n",
      "    The minimum value to color\n",
      "      * Only useful when 'colorBy' is given\n",
      "\n",
      "vmax : float; optional\n",
      "    The maximum value to color\n",
      "      * Only useful when 'colorBy' is given\n",
      "\n",
      "cmap : str or matplotlib ColorMap; optional\n",
      "    The colormap to use when coloring\n",
      "      * Only useful when 'colorBy' is given\n",
      "\n",
      "cbax : matplotlib axis; optional\n",
      "    An explicitly given axis to use for drawing the colorbar\n",
      "      * If not given, but 'colorBy' is given, an axis for the colorbar is\n",
      "        automatically generated\n",
      "\n",
      "cbargs : dict; optional\n",
      "    keyword arguments to pass on when creating the colorbar\n",
      "\n",
      "leftMargin : float; optional\n",
      "    Additional margin to add to the left of the figure\n",
      "      * Before using this, try adjusting the 'figsize'\n",
      "\n",
      "rightMargin : float; optional\n",
      "    Additional margin to add to the left of the figure\n",
      "      * Before using this, try adjusting the 'figsize'\n",
      "\n",
      "topMargin : float; optional\n",
      "    Additional margin to add to the left of the figure\n",
      "      * Before using this, try adjusting the 'figsize'\n",
      "\n",
      "bottomMargin : float; optional\n",
      "    Additional margin to add to the left of the figure\n",
      "      * Before using this, try adjusting the 'figsize'\n",
      "\n",
      "**mplArgs\n",
      "    All other keyword arguments are passed on to the plotting functions called\n",
      "    for each geometry\n",
      "      * Will be applied to ALL geometries. Be careful since this can cause\n",
      "        errors when plotting geometries of different types\n",
      "\n",
      "Returns:\n",
      "--------\n",
      "A namedtuple containing:\n",
      "   'ax' -> The map axis\n",
      "   'handles' -> All geometry handles which were created in the order they were\n",
      "                drawn\n",
      "   'cbar' -> The colorbar handle if it was drawn\n",
      "\u001b[1;31mFile:\u001b[0m      c:\\programming\\geokit\\geokit\\core\\geom.py\n",
      "\u001b[1;31mType:\u001b[0m      function"
     ]
    }
   ],
   "source": [
    "?gk.drawGeoms"
   ]
  },
  {
   "cell_type": "markdown",
   "metadata": {},
   "source": [
    "# Spatial Reference System (SRS)"
   ]
  },
  {
   "cell_type": "markdown",
   "metadata": {},
   "source": [
    "same as:\n",
    "- CRS - Coordinate reference system\n",
    "- 'projection'\n",
    "- proj4 system\n",
    "\n",
    "There are different types coordinate systems, for example EPSG4326. This can be accessed by typing 'gk.srs.EPSG4326'. This will create a SRS-Object. This object can be later used within other functions, where a SRS is used as an input parameter e.g: gk.raster.extractValues(srs = gk.srs.EPSG4326)\n",
    "\n",
    "Commonley used SRS:\n",
    "- Basic latitude and longitude - EPSG4326\n",
    "- Lambert azimuthal equal area (LAEA) - EPSG3035\n",
    "- Mercator - EPSG3857"
   ]
  },
  {
   "cell_type": "code",
   "execution_count": 15,
   "metadata": {},
   "outputs": [
    {
     "name": "stdout",
     "output_type": "stream",
     "text": [
      "<class 'osgeo.osr.SpatialReference'>\n"
     ]
    }
   ],
   "source": [
    "print(type(gk.srs.EPSG4326))"
   ]
  },
  {
   "cell_type": "code",
   "execution_count": 4,
   "metadata": {},
   "outputs": [
    {
     "name": "stdout",
     "output_type": "stream",
     "text": [
      "GEOGCS[\"WGS 84\",\n",
      "    DATUM[\"WGS_1984\",\n",
      "        SPHEROID[\"WGS 84\",6378137,298.257223563,\n",
      "            AUTHORITY[\"EPSG\",\"7030\"]],\n",
      "        AUTHORITY[\"EPSG\",\"6326\"]],\n",
      "    PRIMEM[\"Greenwich\",0,\n",
      "        AUTHORITY[\"EPSG\",\"8901\"]],\n",
      "    UNIT[\"degree\",0.0174532925199433,\n",
      "        AUTHORITY[\"EPSG\",\"9122\"]],\n",
      "    AXIS[\"Latitude\",NORTH],\n",
      "    AXIS[\"Longitude\",EAST],\n",
      "    AUTHORITY[\"EPSG\",\"4326\"]]\n"
     ]
    }
   ],
   "source": [
    "print(gk.srs.EPSG4326)\n",
    "# print(gk.srs.EPSG3035)\n",
    "# print(gk.srs.EPSG3857)"
   ]
  },
  {
   "cell_type": "markdown",
   "metadata": {},
   "source": [
    "## Loading of other SRS\n",
    "Other SRS can be loaded from epsg.io or spacialreference.org. For Exampe EPSG:2004 would be loaded by the EPSG-name:"
   ]
  },
  {
   "cell_type": "code",
   "execution_count": 5,
   "metadata": {},
   "outputs": [
    {
     "name": "stdout",
     "output_type": "stream",
     "text": [
      "PROJCS[\"Montserrat 1958 / British West Indies Grid\",\n",
      "    GEOGCS[\"Montserrat 1958\",\n",
      "        DATUM[\"Montserrat_1958\",\n",
      "            SPHEROID[\"Clarke 1880 (RGS)\",6378249.145,293.465,\n",
      "                AUTHORITY[\"EPSG\",\"7012\"]],\n",
      "            AUTHORITY[\"EPSG\",\"6604\"]],\n",
      "        PRIMEM[\"Greenwich\",0,\n",
      "            AUTHORITY[\"EPSG\",\"8901\"]],\n",
      "        UNIT[\"degree\",0.0174532925199433,\n",
      "            AUTHORITY[\"EPSG\",\"9122\"]],\n",
      "        AUTHORITY[\"EPSG\",\"4604\"]],\n",
      "    PROJECTION[\"Transverse_Mercator\"],\n",
      "    PARAMETER[\"latitude_of_origin\",0],\n",
      "    PARAMETER[\"central_meridian\",-62],\n",
      "    PARAMETER[\"scale_factor\",0.9995],\n",
      "    PARAMETER[\"false_easting\",400000],\n",
      "    PARAMETER[\"false_northing\",0],\n",
      "    UNIT[\"metre\",1,\n",
      "        AUTHORITY[\"EPSG\",\"9001\"]],\n",
      "    AXIS[\"Easting\",EAST],\n",
      "    AXIS[\"Northing\",NORTH],\n",
      "    AUTHORITY[\"EPSG\",\"2004\"]]\n"
     ]
    }
   ],
   "source": [
    "print(gk.srs.loadSRS(2004))"
   ]
  },
  {
   "cell_type": "markdown",
   "metadata": {},
   "source": [
    "Otherwise, SRS can be loaded from their Proj4 string:"
   ]
  },
  {
   "cell_type": "code",
   "execution_count": 6,
   "metadata": {},
   "outputs": [
    {
     "name": "stdout",
     "output_type": "stream",
     "text": [
      "PROJCS[\"PUWG_42_Strefa_4\",\n",
      "    GEOGCS[\"Pulkovo 1942\",\n",
      "        DATUM[\"Pulkovo_1942\",\n",
      "            SPHEROID[\"Krassowsky 1940\",6378245,298.3,\n",
      "                AUTHORITY[\"EPSG\",\"7024\"]]],\n",
      "        PRIMEM[\"Greenwich\",0],\n",
      "        UNIT[\"Degree\",0.0174532925199433]],\n",
      "    PROJECTION[\"Transverse_Mercator\"],\n",
      "    PARAMETER[\"latitude_of_origin\",0],\n",
      "    PARAMETER[\"central_meridian\",21],\n",
      "    PARAMETER[\"scale_factor\",1],\n",
      "    PARAMETER[\"false_easting\",4500000],\n",
      "    PARAMETER[\"false_northing\",0],\n",
      "    UNIT[\"metre\",1,\n",
      "        AUTHORITY[\"EPSG\",\"9001\"]],\n",
      "    AXIS[\"Easting\",EAST],\n",
      "    AXIS[\"Northing\",NORTH]]\n"
     ]
    }
   ],
   "source": [
    "poland_special_srs = gk.srs.loadSRS(\n",
    "    'PROJCS[\"PUWG_42_Strefa_4\",GEOGCS[\"GCS_Pulkovo_1942\",DATUM[\"Pulkovo_1942\",SPHEROID[\"Krasovsky_1940\",6378245,298.3]],PRIMEM[\"Greenwich\",0],UNIT[\"Degree\",0.017453292519943295]],PROJECTION[\"Transverse_Mercator\"],PARAMETER[\"False_Easting\",4500000],PARAMETER[\"False_Northing\",0],PARAMETER[\"Central_Meridian\",21],PARAMETER[\"Scale_Factor\",1],PARAMETER[\"Latitude_Of_Origin\",0],UNIT[\"Meter\",1]]'\n",
    ")\n",
    "\n",
    "print(poland_special_srs)"
   ]
  },
  {
   "cell_type": "markdown",
   "metadata": {},
   "source": [
    "## Center the SRS to coordinate \n",
    "SRS can be centerd to a coordinate, for example centered to Aachen:"
   ]
  },
  {
   "cell_type": "code",
   "execution_count": 7,
   "metadata": {},
   "outputs": [
    {
     "name": "stdout",
     "output_type": "stream",
     "text": [
      "PROJCS[\"unnamed_m\",\n",
      "    GEOGCS[\"GRS 1980(IUGG, 1980)\",\n",
      "        DATUM[\"unknown\",\n",
      "            SPHEROID[\"GRS80\",6378137,298.257222101],\n",
      "            TOWGS84[0,0,0,0,0,0,0]],\n",
      "        PRIMEM[\"Greenwich\",0],\n",
      "        UNIT[\"degree\",0.0174532925199433]],\n",
      "    PROJECTION[\"Lambert_Azimuthal_Equal_Area\"],\n",
      "    PARAMETER[\"latitude_of_center\",50.775],\n",
      "    PARAMETER[\"longitude_of_center\",6.083],\n",
      "    PARAMETER[\"false_easting\",0],\n",
      "    PARAMETER[\"false_northing\",0],\n",
      "    UNIT[\"Meter\",1],\n",
      "    AXIS[\"Easting\",EAST],\n",
      "    AXIS[\"Northing\",NORTH]]\n"
     ]
    }
   ],
   "source": [
    "aachen_centered_srs = gk.srs.centeredLAEA(6.083, 50.775)\n",
    "print(aachen_centered_srs)"
   ]
  },
  {
   "cell_type": "markdown",
   "metadata": {},
   "source": [
    "## Transformation between coordinate systems"
   ]
  },
  {
   "cell_type": "code",
   "execution_count": 8,
   "metadata": {},
   "outputs": [],
   "source": [
    "# transforming points between SRS's\n",
    "new_points = gk.srs.xyTransform(\n",
    "    [\n",
    "        (6.083, 50.775),\n",
    "        (6.083, 50.875),\n",
    "        (6.083, 50.975),\n",
    "        (7.083, 50.175),\n",
    "        (7.583, 50.775),\n",
    "    ],\n",
    "    fromSRS=gk.srs.EPSG4326,\n",
    "    toSRS=aachen_centered_srs,\n",
    "    outputFormat=\"xy\",\n",
    ")"
   ]
  },
  {
   "cell_type": "code",
   "execution_count": 16,
   "metadata": {},
   "outputs": [
    {
     "name": "stdout",
     "output_type": "stream",
     "text": [
      "0.0 0.0\n",
      "0.0 11124.480318935728\n",
      "0.0 22249.12252108337\n",
      "71432.80781956235 -66262.41755972906\n",
      "105796.52244980003 1069.9939140465938\n"
     ]
    }
   ],
   "source": [
    "for x, y in zip(new_points.x, new_points.y):\n",
    "    print(x, y)"
   ]
  },
  {
   "cell_type": "markdown",
   "metadata": {},
   "source": [
    "## Export the SRS\n",
    "The coordinate systems can be exported. File formats for that are: WKT or Proj4"
   ]
  },
  {
   "cell_type": "code",
   "execution_count": 10,
   "metadata": {},
   "outputs": [
    {
     "data": {
      "text/plain": [
       "'PROJCS[\"unnamed_m\",GEOGCS[\"GRS 1980(IUGG, 1980)\",DATUM[\"unknown\",SPHEROID[\"GRS80\",6378137,298.257222101],TOWGS84[0,0,0,0,0,0,0]],PRIMEM[\"Greenwich\",0],UNIT[\"degree\",0.0174532925199433]],PROJECTION[\"Lambert_Azimuthal_Equal_Area\"],PARAMETER[\"latitude_of_center\",50.775],PARAMETER[\"longitude_of_center\",6.083],PARAMETER[\"false_easting\",0],PARAMETER[\"false_northing\",0],UNIT[\"Meter\",1],AXIS[\"Easting\",EAST],AXIS[\"Northing\",NORTH]]'"
      ]
     },
     "execution_count": 10,
     "metadata": {},
     "output_type": "execute_result"
    }
   ],
   "source": [
    "# Export as WKT\n",
    "aachen_centered_srs.ExportToWkt()"
   ]
  },
  {
   "cell_type": "code",
   "execution_count": 11,
   "metadata": {},
   "outputs": [
    {
     "data": {
      "text/plain": [
       "'+proj=laea +lat_0=50.775 +lon_0=6.083 +x_0=0 +y_0=0 +ellps=GRS80 +towgs84=0,0,0,0,0,0,0 +units=m +no_defs'"
      ]
     },
     "execution_count": 11,
     "metadata": {},
     "output_type": "execute_result"
    }
   ],
   "source": [
    "# Export to Proj4\n",
    "aachen_centered_srs.ExportToProj4()"
   ]
  },
  {
   "cell_type": "markdown",
   "metadata": {},
   "source": [
    "## Load SRS"
   ]
  },
  {
   "cell_type": "code",
   "execution_count": 12,
   "metadata": {},
   "outputs": [
    {
     "data": {
      "text/plain": [
       "<osgeo.osr.SpatialReference; proxy of <Swig Object of type 'OSRSpatialReferenceShadow *' at 0x0000024A5B9BAAC0> >"
      ]
     },
     "execution_count": 12,
     "metadata": {},
     "output_type": "execute_result"
    }
   ],
   "source": [
    "gk.srs.loadSRS(aachen_centered_srs.ExportToWkt())"
   ]
  }
 ],
 "metadata": {
  "kernelspec": {
   "display_name": "geokit",
   "language": "python",
   "name": "python3"
  },
  "language_info": {
   "codemirror_mode": {
    "name": "ipython",
    "version": 3
   },
   "file_extension": ".py",
   "mimetype": "text/x-python",
   "name": "python",
   "nbconvert_exporter": "python",
   "pygments_lexer": "ipython3",
   "version": "3.10.13"
  }
 },
 "nbformat": 4,
 "nbformat_minor": 4
}
