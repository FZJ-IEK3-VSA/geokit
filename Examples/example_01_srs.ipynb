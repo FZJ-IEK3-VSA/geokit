{
 "cells": [
  {
   "cell_type": "code",
   "execution_count": null,
   "metadata": {},
   "outputs": [],
   "source": [
    "import geokit as gk\n",
    "import numpy as np\n",
    "import pandas as pd\n",
    "\n",
    "import matplotlib.pyplot as plt\n"
   ]
  },
  {
   "cell_type": "markdown",
   "metadata": {},
   "source": [
    "# Genreal geokit build up\n",
    "\n",
    "type gk. and use auto completion (press tab) to see suggestions. Here you can see the modules:\n",
    "- srs: spatial reference system\n",
    "- geom: geometries\n",
    "- raster: raster files\n",
    "- vector: vector files\n",
    "- region mask: *ontop of all*\n",
    "- Extent: *brings *all together*\n",
    "- ...\n",
    "\n",
    "\n",
    "Each module holdes all necessary function for its operation.\n",
    "Some more special function are directly available under gk.#function name, but are defined within each module.\n",
    "The modules are stored under ./geokit/core/#modulename"
   ]
  },
  {
   "cell_type": "markdown",
   "metadata": {},
   "source": [
    "For each function, the ducumentation can be assessed by '?'"
   ]
  },
  {
   "cell_type": "code",
   "execution_count": null,
   "metadata": {},
   "outputs": [],
   "source": [
    "gk.drawGeoms"
   ]
  },
  {
   "cell_type": "markdown",
   "metadata": {},
   "source": [
    "# Spatial Reference System (SRS)"
   ]
  },
  {
   "cell_type": "markdown",
   "metadata": {},
   "source": [
    "same as:\n",
    "- CRS - Coordinate reference system\n",
    "- 'projection'\n",
    "- proj4 system\n",
    "\n",
    "There are different types coordinate systems, for example EPSG4326. This can be accessed by typing 'gk.srs.EPSG4326'. This will create a SRS-Objectk. This object can be later used within other functions, where a SRS is used as an input parameter e.g: gk.raster.extractValues(srs = gk.srs.EPSG4326)\n",
    "\n",
    "Commonley used SRS:\n",
    "- Basic latitude and longitude - EPSG4326\n",
    "- Lambert azimuthal equal area (LAEA) - EPSG3035\n",
    "- Mercator - EPSG3857"
   ]
  },
  {
   "cell_type": "code",
   "execution_count": null,
   "metadata": {},
   "outputs": [],
   "source": [
    "print(type(gk.srs.EPSG4326))"
   ]
  },
  {
   "cell_type": "code",
   "execution_count": null,
   "metadata": {},
   "outputs": [],
   "source": [
    "print(gk.srs.EPSG4326)\n",
    "# print(gk.srs.EPSG3035)\n",
    "# print(gk.srs.EPSG3857)"
   ]
  },
  {
   "cell_type": "markdown",
   "metadata": {},
   "source": [
    "## Loading of other SRS\n",
    "Other SRS can be loaded from epsg.io or spacialreference.org. For Exampe EPSG:2004 would be loaded by the EPSG-name:"
   ]
  },
  {
   "cell_type": "code",
   "execution_count": null,
   "metadata": {},
   "outputs": [],
   "source": [
    "print(gk.srs.loadSRS(2004))"
   ]
  },
  {
   "cell_type": "markdown",
   "metadata": {},
   "source": [
    "Otherwise, SRS can be loaded from their Proj4 string:"
   ]
  },
  {
   "cell_type": "code",
   "execution_count": null,
   "metadata": {},
   "outputs": [],
   "source": [
    "poland_special_srs = gk.srs.loadSRS(\n",
    "    'PROJCS[\"PUWG_42_Strefa_4\",GEOGCS[\"GCS_Pulkovo_1942\",DATUM[\"Pulkovo_1942\",SPHEROID[\"Krasovsky_1940\",6378245,298.3]],PRIMEM[\"Greenwich\",0],UNIT[\"Degree\",0.017453292519943295]],PROJECTION[\"Transverse_Mercator\"],PARAMETER[\"False_Easting\",4500000],PARAMETER[\"False_Northing\",0],PARAMETER[\"Central_Meridian\",21],PARAMETER[\"Scale_Factor\",1],PARAMETER[\"Latitude_Of_Origin\",0],UNIT[\"Meter\",1]]'\n",
    ")\n",
    "\n",
    "print(poland_special_srs)"
   ]
  },
  {
   "cell_type": "markdown",
   "metadata": {},
   "source": [
    "## Center the SRS to coordinate \n",
    "SRS can be centerd to a coordinate, for example centered to Aachen:"
   ]
  },
  {
   "cell_type": "code",
   "execution_count": null,
   "metadata": {},
   "outputs": [],
   "source": [
    "aachen_centered_srs = gk.srs.centeredLAEA(6.083, 50.775)\n",
    "print(aachen_centered_srs)"
   ]
  },
  {
   "cell_type": "markdown",
   "metadata": {},
   "source": [
    "## Transformation between coordinate systems"
   ]
  },
  {
   "cell_type": "code",
   "execution_count": null,
   "metadata": {},
   "outputs": [],
   "source": [
    "# transforming points between SRS's\n",
    "new_points = gk.srs.xyTransform(\n",
    "    [\n",
    "        (6.083, 50.775),\n",
    "        (6.083, 50.875),\n",
    "        (6.083, 50.975),\n",
    "        (7.083, 50.175),\n",
    "        (7.583, 50.775),\n",
    "    ],\n",
    "    fromSRS=gk.srs.EPSG4326,\n",
    "    toSRS=aachen_centered_srs,\n",
    "    outputFormat=\"xy\",\n",
    ")"
   ]
  },
  {
   "cell_type": "code",
   "execution_count": null,
   "metadata": {},
   "outputs": [],
   "source": [
    "for x, y in zip(new_points.x, new_points.y):\n",
    "    print(x, y)"
   ]
  },
  {
   "cell_type": "markdown",
   "metadata": {},
   "source": [
    "## Export the SRS\n",
    "The coordinate systems can be exported. File formats for that are: WKT or Proj4"
   ]
  },
  {
   "cell_type": "code",
   "execution_count": null,
   "metadata": {},
   "outputs": [],
   "source": [
    "# Export as WKT\n",
    "aachen_centered_srs.ExportToWkt()"
   ]
  },
  {
   "cell_type": "code",
   "execution_count": null,
   "metadata": {},
   "outputs": [],
   "source": [
    "# Export to Proj4\n",
    "aachen_centered_srs.ExportToProj4()"
   ]
  },
  {
   "cell_type": "markdown",
   "metadata": {},
   "source": [
    "## Load SRS"
   ]
  },
  {
   "cell_type": "code",
   "execution_count": null,
   "metadata": {},
   "outputs": [],
   "source": [
    "gk.srs.loadSRS(aachen_centered_srs.ExportToWkt())"
   ]
  },
  {
   "cell_type": "code",
   "execution_count": null,
   "metadata": {},
   "outputs": [],
   "source": []
  }
 ],
 "metadata": {
  "kernelspec": {
   "display_name": "geokit",
   "language": "python",
   "name": "python3"
  },
  "language_info": {
   "codemirror_mode": {
    "name": "ipython",
    "version": 3
   },
   "file_extension": ".py",
   "mimetype": "text/x-python",
   "name": "python",
   "nbconvert_exporter": "python",
   "pygments_lexer": "ipython3",
   "version": "3.10.13"
  }
 },
 "nbformat": 4,
 "nbformat_minor": 4
}
