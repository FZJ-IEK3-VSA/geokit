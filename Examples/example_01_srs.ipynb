{
 "cells": [
  {
   "cell_type": "code",
   "execution_count": 1,
   "metadata": {},
   "outputs": [],
   "source": [
    "import geokit as gk\n",
    "import numpy as np\n",
    "import pandas as pd\n",
    "\n",
    "import matplotlib.pyplot as plt"
   ]
  },
  {
   "cell_type": "code",
   "execution_count": 2,
   "metadata": {},
   "outputs": [
    {
     "data": {
      "text/plain": [
       "'1.3.0'"
      ]
     },
     "execution_count": 2,
     "metadata": {},
     "output_type": "execute_result"
    }
   ],
   "source": [
    "gk.__version__"
   ]
  },
  {
   "cell_type": "markdown",
   "metadata": {},
   "source": [
    "# Genreal geokit build up\n",
    "\n",
    "type gk. and use auto completion (press tab) to see suggestions. Here you can see the modules:\n",
    "- srs: spatial reference system\n",
    "- geom: geometries\n",
    "- raster: raster files\n",
    "- vector: vector files\n",
    "- region mask: *ontop of all*\n",
    "- Extent: *brings *all together*\n",
    "- ...\n",
    "\n",
    "\n",
    "Each module holdes all necessary function for its operation.\n",
    "Some more special function are directly available under gk.#function name, but are defined within each module.\n",
    "The modules are stored under ./geokit/core/#modulename"
   ]
  },
  {
   "cell_type": "markdown",
   "metadata": {},
   "source": [
    "For each function, the ducumentation can be assessed by '?'"
   ]
  },
  {
   "cell_type": "code",
   "execution_count": 3,
   "metadata": {},
   "outputs": [],
   "source": [
    "?gk.drawGeoms"
   ]
  },
  {
   "cell_type": "markdown",
   "metadata": {},
   "source": [
    "# Spatial Reference System (SRS)"
   ]
  },
  {
   "cell_type": "markdown",
   "metadata": {},
   "source": [
    "same as:\n",
    "- CRS - Coordinate reference system\n",
    "- 'projection'\n",
    "- proj4 system\n",
    "\n",
    "There are different types coordinate systems, for example EPSG4326. This can be accessed by typing 'gk.srs.EPSG4326'. This will create a SRS-Objectk. This object can be later used within other functions, where a SRS is used as an input parameter e.g: gk.raster.extractValues(srs = gk.srs.EPSG4326)\n",
    "\n",
    "Commonley used SRS:\n",
    "- Basic latitude and longitude - EPSG4326\n",
    "- Lambert azimuthal equal area (LAEA) - EPSG3035\n",
    "- Mercator - EPSG3857"
   ]
  },
  {
   "cell_type": "code",
   "execution_count": 4,
   "metadata": {},
   "outputs": [
    {
     "name": "stdout",
     "output_type": "stream",
     "text": [
      "<class 'osgeo.osr.SpatialReference'>\n"
     ]
    }
   ],
   "source": [
    "print(type(gk.srs.EPSG4326))"
   ]
  },
  {
   "cell_type": "code",
   "execution_count": 5,
   "metadata": {},
   "outputs": [
    {
     "name": "stdout",
     "output_type": "stream",
     "text": [
      "GEOGCS[\"WGS 84\",\n",
      "    DATUM[\"WGS_1984\",\n",
      "        SPHEROID[\"WGS 84\",6378137,298.257223563,\n",
      "            AUTHORITY[\"EPSG\",\"7030\"]],\n",
      "        AUTHORITY[\"EPSG\",\"6326\"]],\n",
      "    PRIMEM[\"Greenwich\",0,\n",
      "        AUTHORITY[\"EPSG\",\"8901\"]],\n",
      "    UNIT[\"degree\",0.0174532925199433,\n",
      "        AUTHORITY[\"EPSG\",\"9122\"]],\n",
      "    AXIS[\"Latitude\",NORTH],\n",
      "    AXIS[\"Longitude\",EAST],\n",
      "    AUTHORITY[\"EPSG\",\"4326\"]]\n"
     ]
    }
   ],
   "source": [
    "print(gk.srs.EPSG4326)\n",
    "# print(gk.srs.EPSG3035)\n",
    "# print(gk.srs.EPSG3857)"
   ]
  },
  {
   "cell_type": "markdown",
   "metadata": {},
   "source": [
    "## Loading of other SRS\n",
    "Other SRS can be loaded from epsg.io or spacialreference.org. For Exampe EPSG:2004 would be loaded by the EPSG-name:"
   ]
  },
  {
   "cell_type": "code",
   "execution_count": 6,
   "metadata": {},
   "outputs": [
    {
     "name": "stdout",
     "output_type": "stream",
     "text": [
      "PROJCS[\"Montserrat 1958 / British West Indies Grid\",\n",
      "    GEOGCS[\"Montserrat 1958\",\n",
      "        DATUM[\"Montserrat_1958\",\n",
      "            SPHEROID[\"Clarke 1880 (RGS)\",6378249.145,293.465,\n",
      "                AUTHORITY[\"EPSG\",\"7012\"]],\n",
      "            AUTHORITY[\"EPSG\",\"6604\"]],\n",
      "        PRIMEM[\"Greenwich\",0,\n",
      "            AUTHORITY[\"EPSG\",\"8901\"]],\n",
      "        UNIT[\"degree\",0.0174532925199433,\n",
      "            AUTHORITY[\"EPSG\",\"9122\"]],\n",
      "        AUTHORITY[\"EPSG\",\"4604\"]],\n",
      "    PROJECTION[\"Transverse_Mercator\"],\n",
      "    PARAMETER[\"latitude_of_origin\",0],\n",
      "    PARAMETER[\"central_meridian\",-62],\n",
      "    PARAMETER[\"scale_factor\",0.9995],\n",
      "    PARAMETER[\"false_easting\",400000],\n",
      "    PARAMETER[\"false_northing\",0],\n",
      "    UNIT[\"metre\",1,\n",
      "        AUTHORITY[\"EPSG\",\"9001\"]],\n",
      "    AXIS[\"Easting\",EAST],\n",
      "    AXIS[\"Northing\",NORTH],\n",
      "    AUTHORITY[\"EPSG\",\"2004\"]]\n"
     ]
    }
   ],
   "source": [
    "print(gk.srs.loadSRS(2004))"
   ]
  },
  {
   "cell_type": "markdown",
   "metadata": {},
   "source": [
    "Otherwise, SRS can be loaded from their Proj4 string:"
   ]
  },
  {
   "cell_type": "code",
   "execution_count": 7,
   "metadata": {},
   "outputs": [
    {
     "name": "stdout",
     "output_type": "stream",
     "text": [
      "PROJCS[\"PUWG_42_Strefa_4\",\n",
      "    GEOGCS[\"Pulkovo 1942\",\n",
      "        DATUM[\"Pulkovo_1942\",\n",
      "            SPHEROID[\"Krassowsky 1940\",6378245,298.3,\n",
      "                AUTHORITY[\"EPSG\",\"7024\"]],\n",
      "            AUTHORITY[\"EPSG\",\"6284\"]],\n",
      "        PRIMEM[\"Greenwich\",0],\n",
      "        UNIT[\"Degree\",0.0174532925199433]],\n",
      "    PROJECTION[\"Transverse_Mercator\"],\n",
      "    PARAMETER[\"latitude_of_origin\",0],\n",
      "    PARAMETER[\"central_meridian\",21],\n",
      "    PARAMETER[\"scale_factor\",1],\n",
      "    PARAMETER[\"false_easting\",4500000],\n",
      "    PARAMETER[\"false_northing\",0],\n",
      "    UNIT[\"metre\",1,\n",
      "        AUTHORITY[\"EPSG\",\"9001\"]],\n",
      "    AXIS[\"Easting\",EAST],\n",
      "    AXIS[\"Northing\",NORTH]]\n"
     ]
    }
   ],
   "source": [
    "poland_special_srs = gk.srs.loadSRS(\n",
    "    'PROJCS[\"PUWG_42_Strefa_4\",GEOGCS[\"GCS_Pulkovo_1942\",DATUM[\"Pulkovo_1942\",SPHEROID[\"Krasovsky_1940\",6378245,298.3]],PRIMEM[\"Greenwich\",0],UNIT[\"Degree\",0.017453292519943295]],PROJECTION[\"Transverse_Mercator\"],PARAMETER[\"False_Easting\",4500000],PARAMETER[\"False_Northing\",0],PARAMETER[\"Central_Meridian\",21],PARAMETER[\"Scale_Factor\",1],PARAMETER[\"Latitude_Of_Origin\",0],UNIT[\"Meter\",1]]'\n",
    ")\n",
    "\n",
    "print(poland_special_srs)"
   ]
  },
  {
   "cell_type": "markdown",
   "metadata": {},
   "source": [
    "## Center the SRS to coordinate \n",
    "SRS can be centerd to a coordinate, for example centered to Aachen:"
   ]
  },
  {
   "cell_type": "code",
   "execution_count": 8,
   "metadata": {},
   "outputs": [
    {
     "name": "stdout",
     "output_type": "stream",
     "text": [
      "PROJCS[\"unknown\",\n",
      "    GEOGCS[\"unknown\",\n",
      "        DATUM[\"Unknown based on GRS80 ellipsoid\",\n",
      "            SPHEROID[\"GRS 1980\",6378137,298.257222101,\n",
      "                AUTHORITY[\"EPSG\",\"7019\"]],\n",
      "            TOWGS84[0,0,0,0,0,0,0]],\n",
      "        PRIMEM[\"Greenwich\",0,\n",
      "            AUTHORITY[\"EPSG\",\"8901\"]],\n",
      "        UNIT[\"degree\",0.0174532925199433,\n",
      "            AUTHORITY[\"EPSG\",\"9122\"]]],\n",
      "    PROJECTION[\"Lambert_Azimuthal_Equal_Area\"],\n",
      "    PARAMETER[\"latitude_of_center\",50.775],\n",
      "    PARAMETER[\"longitude_of_center\",6.083],\n",
      "    PARAMETER[\"false_easting\",0],\n",
      "    PARAMETER[\"false_northing\",0],\n",
      "    UNIT[\"metre\",1,\n",
      "        AUTHORITY[\"EPSG\",\"9001\"]],\n",
      "    AXIS[\"Easting\",EAST],\n",
      "    AXIS[\"Northing\",NORTH]]\n"
     ]
    }
   ],
   "source": [
    "aachen_centered_srs = gk.srs.centeredLAEA(6.083, 50.775)\n",
    "print(aachen_centered_srs)"
   ]
  },
  {
   "cell_type": "markdown",
   "metadata": {},
   "source": [
    "## Transformation between coordinate systems"
   ]
  },
  {
   "cell_type": "code",
   "execution_count": 9,
   "metadata": {},
   "outputs": [],
   "source": [
    "# transforming points between SRS's\n",
    "new_points = gk.srs.xyTransform(\n",
    "    [\n",
    "        (6.083, 50.775),\n",
    "        (6.083, 50.875),\n",
    "        (6.083, 50.975),\n",
    "        (7.083, 50.175),\n",
    "        (7.583, 50.775),\n",
    "    ],\n",
    "    fromSRS=gk.srs.EPSG4326,\n",
    "    toSRS=aachen_centered_srs,\n",
    "    outputFormat=\"xy\",\n",
    ")"
   ]
  },
  {
   "cell_type": "code",
   "execution_count": 10,
   "metadata": {},
   "outputs": [
    {
     "name": "stdout",
     "output_type": "stream",
     "text": [
      "0.0 0.0\n",
      "0.0 11124.480318935728\n",
      "0.0 22249.12252108337\n",
      "71432.80781956235 -66262.41755972906\n",
      "105796.52244980003 1069.9939140465938\n"
     ]
    }
   ],
   "source": [
    "for x, y in zip(new_points.x, new_points.y):\n",
    "    print(x, y)"
   ]
  },
  {
   "cell_type": "markdown",
   "metadata": {},
   "source": [
    "## Export the SRS\n",
    "The coordinate systems can be exported. File formats for that are: WKT or Proj4"
   ]
  },
  {
   "cell_type": "code",
   "execution_count": 11,
   "metadata": {},
   "outputs": [
    {
     "data": {
      "text/plain": [
       "'PROJCS[\"unknown\",GEOGCS[\"unknown\",DATUM[\"Unknown based on GRS80 ellipsoid\",SPHEROID[\"GRS 1980\",6378137,298.257222101,AUTHORITY[\"EPSG\",\"7019\"]],TOWGS84[0,0,0,0,0,0,0]],PRIMEM[\"Greenwich\",0,AUTHORITY[\"EPSG\",\"8901\"]],UNIT[\"degree\",0.0174532925199433,AUTHORITY[\"EPSG\",\"9122\"]]],PROJECTION[\"Lambert_Azimuthal_Equal_Area\"],PARAMETER[\"latitude_of_center\",50.775],PARAMETER[\"longitude_of_center\",6.083],PARAMETER[\"false_easting\",0],PARAMETER[\"false_northing\",0],UNIT[\"metre\",1,AUTHORITY[\"EPSG\",\"9001\"]],AXIS[\"Easting\",EAST],AXIS[\"Northing\",NORTH]]'"
      ]
     },
     "execution_count": 11,
     "metadata": {},
     "output_type": "execute_result"
    }
   ],
   "source": [
    "# Export as WKT\n",
    "aachen_centered_srs.ExportToWkt()"
   ]
  },
  {
   "cell_type": "code",
   "execution_count": 12,
   "metadata": {},
   "outputs": [
    {
     "data": {
      "text/plain": [
       "'+proj=laea +lat_0=50.775 +lon_0=6.083 +x_0=0 +y_0=0 +ellps=GRS80 +towgs84=0,0,0,0,0,0,0 +units=m +no_defs'"
      ]
     },
     "execution_count": 12,
     "metadata": {},
     "output_type": "execute_result"
    }
   ],
   "source": [
    "# Export to Proj4\n",
    "aachen_centered_srs.ExportToProj4()"
   ]
  },
  {
   "cell_type": "markdown",
   "metadata": {},
   "source": [
    "## Load SRS"
   ]
  },
  {
   "cell_type": "code",
   "execution_count": 13,
   "metadata": {},
   "outputs": [
    {
     "data": {
      "text/plain": [
       "<osgeo.osr.SpatialReference; proxy of <Swig Object of type 'OSRSpatialReferenceShadow *' at 0x00000270AFFE6330> >"
      ]
     },
     "execution_count": 13,
     "metadata": {},
     "output_type": "execute_result"
    }
   ],
   "source": [
    "gk.srs.loadSRS(aachen_centered_srs.ExportToWkt())"
   ]
  },
  {
   "cell_type": "code",
   "execution_count": null,
   "metadata": {},
   "outputs": [],
   "source": []
  }
 ],
 "metadata": {
  "kernelspec": {
   "display_name": "geokit",
   "language": "python",
   "name": "geokit"
  },
  "language_info": {
   "codemirror_mode": {
    "name": "ipython",
    "version": 3
   },
   "file_extension": ".py",
   "mimetype": "text/x-python",
   "name": "python",
   "nbconvert_exporter": "python",
   "pygments_lexer": "ipython3",
   "version": "3.8.6"
  }
 },
 "nbformat": 4,
 "nbformat_minor": 4
}